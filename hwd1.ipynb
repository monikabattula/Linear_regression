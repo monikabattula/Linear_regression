{
  "nbformat": 4,
  "nbformat_minor": 0,
  "metadata": {
    "colab": {
      "provenance": [],
      "include_colab_link": true
    },
    "kernelspec": {
      "name": "python3",
      "display_name": "Python 3"
    },
    "language_info": {
      "name": "python"
    }
  },
  "cells": [
    {
      "cell_type": "markdown",
      "metadata": {
        "id": "view-in-github",
        "colab_type": "text"
      },
      "source": [
        "<a href=\"https://colab.research.google.com/github/monikabattula/Linear_regression/blob/master/hwd1.ipynb\" target=\"_parent\"><img src=\"https://colab.research.google.com/assets/colab-badge.svg\" alt=\"Open In Colab\"/></a>"
      ]
    },
    {
      "cell_type": "code",
      "execution_count": null,
      "metadata": {
        "id": "u8H7VPRZe892"
      },
      "outputs": [],
      "source": [
        "import numpy as np"
      ]
    },
    {
      "cell_type": "code",
      "source": [
        "# Downloading the datasets using wget\n",
        "!wget https://nkb-backend-otg-media-static.s3.ap-south-1.amazonaws.com/otg_prod/media/Tech_4.0/AI_ML/Datasets/mnist_train.csv\n",
        "!wget https://nkb-backend-otg-media-static.s3.ap-south-1.amazonaws.com/otg_prod/media/Tech_4.0/AI_ML/Datasets/mnist_test.csv"
      ],
      "metadata": {
        "id": "z3dw4uY-fCYj"
      },
      "execution_count": null,
      "outputs": []
    },
    {
      "cell_type": "code",
      "source": [
        "# Checking the last few lines of the downloaded files\n",
        "!tail mnist_train.csv\n",
        "print(\"test\")\n",
        "!tail mnist_test.csv"
      ],
      "metadata": {
        "id": "cUWTysFlfFh4"
      },
      "execution_count": null,
      "outputs": []
    },
    {
      "cell_type": "code",
      "source": [
        "file_name = \"mnist_train.csv\"\n",
        "data = np.genfromtxt(file_name, delimiter=',', dtype=np.int)\n",
        "print(f\"Shape of the data in {file_name} is: {data.shape} \\n\")"
      ],
      "metadata": {
        "id": "ru3MjKymfKH-"
      },
      "execution_count": null,
      "outputs": []
    },
    {
      "cell_type": "code",
      "source": [
        "MNIST_Y = data[:, 0].reshape(-1, 1)\n",
        "MNIST_X = data[:, 1:]\n",
        "\n",
        "print(f\"Shape of X: {MNIST_X.shape} \\n\")\n",
        "print(f\"Shape of Y: {MNIST_Y.shape} \\n\")"
      ],
      "metadata": {
        "id": "tUQCyLV9fNbP"
      },
      "execution_count": null,
      "outputs": []
    },
    {
      "cell_type": "code",
      "source": [
        "#@title\n",
        "def Ln_norm_distances(train_X, test_x, n):\n",
        "    abs_diff = np.abs(train_X - test_x)\n",
        "    summation = np.sum(np.power(abs_diff, n), axis=1)\n",
        "    ln_distances = np.power(summation, 1/n)\n",
        "    return ln_distances"
      ],
      "metadata": {
        "id": "eZoOAMGGfQt9"
      },
      "execution_count": null,
      "outputs": []
    },
    {
      "cell_type": "code",
      "source": [
        "\n",
        "train_X = MNIST_X[307:407]\n",
        "test_x = MNIST_X[789]\n",
        "n = 3\n",
        "distances = Ln_norm_distances(train_X, test_x, n)\n",
        "print(np.round(distances,4))"
      ],
      "metadata": {
        "id": "uy3eULwpfV3p"
      },
      "execution_count": null,
      "outputs": []
    },
    {
      "cell_type": "code",
      "source": [
        "def k_nearest_neighbours(train_X, test_x, n, k):\n",
        "  distances = Ln_norm_distances(train_X, test_x, n)\n",
        "  indices = np.argsort(distances)\n",
        "  kth_dist_repeat_count = 0\n",
        "  if train_X.shape[0] > k:\n",
        "    kth_nearest_neighbour_index = indices[k-1]\n",
        "    kth_neighbour_distance = distances[kth_nearest_neighbour_index]\n",
        "    indices_of_points_except_top_k = indices[k:]\n",
        "    distances_of_points_except_top_k = distances[indices_of_points_except_top_k]\n",
        "    kth_dist_repeat_count = np.count_nonzero(distances_of_points_except_top_k == kth_neighbour_distance)\n",
        "  indices_k = indices[:(k + kth_dist_repeat_count)]\n",
        "  distances_k = distances[indices_k]\n",
        "  return indices_k, distances_k"
      ],
      "metadata": {
        "id": "ytXXc88Yfapy"
      },
      "execution_count": null,
      "outputs": []
    },
    {
      "cell_type": "code",
      "source": [
        "train_X = MNIST_X[307:407]\n",
        "test_x = MNIST_X[789]\n",
        "n = 3\n",
        "k = 6\n",
        "top_indices, top_distances = k_nearest_neighbours(train_X, test_x, n, k)\n",
        "print(top_indices)\n",
        "print(np.round(top_distances,4))"
      ],
      "metadata": {
        "id": "CyzkbaeYfi7x"
      },
      "execution_count": null,
      "outputs": []
    }
  ]
}